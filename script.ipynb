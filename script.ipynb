{
  "cells": [
    {
      "cell_type": "code",
      "execution_count": 1,
      "metadata": {
        "pycharm": {
          "is_executing": false
        }
      },
      "outputs": [],
      "source": [
        "from sklearn.feature_extraction.text import TfidfTransformer\n",
        "import os\n",
        "import pickle\n",
        "import pandas as pd\n",
        "import numpy as np\n",
        "path_training_data \u003d os.getcwd()+\u0027/training_data.tsv\u0027\n",
        "path_test_data \u003d os.getcwd()+\u0027/eval_data.txt\u0027"
      ]
    },
    {
      "cell_type": "code",
      "execution_count": 2,
      "metadata": {
        "pycharm": {
          "is_executing": false,
          "metadata": false,
          "name": "#%%###### regex generation ######\n"
        }
      },
      "outputs": [
        {
          "name": "stdout",
          "text": [
            "inside_extration\n",
            "extracted\n"
          ],
          "output_type": "stream"
        }
      ],
      "source": [
        "import regex_generator\n",
        "\n",
        "regex_generator.main_regex_generator(path_training_data)\n",
        "####### regex extraction ######\n",
        "import regex_matcher\n",
        "\n",
        "print(\u0027inside_extration\u0027)\n",
        "extractions_from_regex \u003d regex_matcher.main_regex_matcher(path_test_data)\n",
        "print(\u0027extracted\u0027)\n"
      ]
    },
    {
      "cell_type": "code",
      "execution_count": 3,
      "metadata": {
        "pycharm": {
          "is_executing": false,
          "metadata": false,
          "name": "#%%\n"
        }
      },
      "outputs": [
        {
          "name": "stdout",
          "text": [
            "Creating the bag of words...\n\n",
            "Accuracy with SVM is :0.868020304568528\nAccuracy score with Multi Layer Perceptron: 0.8527918781725888\n"
          ],
          "output_type": "stream"
        }
      ],
      "source": [
        "\n",
        "import training_classifier\n",
        "training_classifier.main_ML_model()\n",
        "\n",
        "f \u003d open(\u0027svm_classifier.pickle\u0027, \u0027rb\u0027)\n",
        "clf \u003d pickle.load(f)\n",
        "f.close()\n",
        "\n",
        "f \u003d open(\u0027mlp_classifier.pickle\u0027, \u0027rb\u0027)\n",
        "mlp \u003d pickle.load(f)\n",
        "f.close()\n",
        "\n",
        "\n",
        "f \u003d open(\u0027my_vectorizer.pickle\u0027, \u0027rb\u0027)\n",
        "vectorizer \u003d pickle.load(f)\n",
        "f.close()\n"
      ]
    },
    {
      "cell_type": "code",
      "execution_count": 4,
      "metadata": {
        "pycharm": {
          "is_executing": false,
          "metadata": false,
          "name": "#%%\n"
        }
      },
      "outputs": [],
      "source": "\n###### loading data ######\ndata\u003d[]\nmaster_data \u003d open(path_test_data, \u0027r\u0027)\nfor sent in master_data:\n    data.append(\u0027 \u0027.join(sent.split()))#using \u0027 \u0027.join(sent.split()) to remove the \\n from the txt file \n"
    },
    {
      "cell_type": "code",
      "execution_count": 5,
      "metadata": {
        "pycharm": {
          "is_executing": false,
          "metadata": false,
          "name": "#%%\n"
        }
      },
      "outputs": [],
      "source": [
        "df \u003d pd.DataFrame(data) # loading data to the dataframe\n",
        "df\u003ddf[0]# getting the dimentions right for prediction\n",
        "#\n",
        "clean_test_data \u003d []\n",
        "for i in df:\n",
        "    clean_test_data.append(i)\n",
        "# print (clean_train_data)\n",
        "\n",
        "# Get a bag of words for the test set, and convert to a numpy array\n",
        "test_data_features \u003d vectorizer.transform(clean_test_data)\n",
        "np.asarray(test_data_features)\n",
        "\n",
        "tfidf_transformer \u003d TfidfTransformer()\n",
        "X_test_tfidf \u003d tfidf_transformer.fit_transform(test_data_features)\n",
        "\n"
      ]
    },
    {
      "cell_type": "code",
      "execution_count": 7,
      "metadata": {
        "pycharm": {
          "is_executing": false,
          "metadata": false,
          "name": "#%%\n"
        }
      },
      "outputs": [
        {
          "name": "stdout",
          "text": [
            "Output stored\n"
          ],
          "output_type": "stream"
        }
      ],
      "source": "###### predicting from the classifier ######\n\nresult1 \u003d clf.predict(X_test_tfidf)\nresult2 \u003d mlp.predict(X_test_tfidf)\n\n###### saving the result in a dataframe ######\n\noutput1 \u003d pd.DataFrame(data\u003d{\"sent\": df, \"label\": result1})\noutput2 \u003d pd.DataFrame(data\u003d{\"sent\": df, \"label\": result2})\npredicted_result1 \u003d list(result1) # converting the n dimentional array into a list\npredicted_result2 \u003d list(result2)\n###### output of the classisfier using BOW model ######\noutput1.to_csv((\u0027Bag_of_Words_model_new_svm.csv\u0027), index\u003dFalse, quoting\u003d3, escapechar\u003d\u0027\\\\\u0027)\noutput2.to_csv((\u0027Bag_of_Words_model_new_mlp.csv\u0027), index\u003dFalse, quoting\u003d3, escapechar\u003d\u0027\\\\\u0027)\n###### final submission ######\nfinal_result1\u003d[]\nfor idx, prediction in enumerate(predicted_result1):\n    if (prediction\u003d\u003d\u0027Not Found\u0027):\n        final_result1.append(\u0027Not Found\u0027) # if classifier identifies the sentence to be labled as Not Found it has power to over write the extracter\n    else:\n        final_result1.append(extractions_from_regex[idx])# if the classifier identifies it to have a phrase then we use the extracted phrase\n\nfinal_result2\u003d[]\nfor idx, prediction in enumerate(predicted_result2):\n    if (prediction\u003d\u003d\u0027Not Found\u0027):\n        final_result2.append(\u0027Not Found\u0027) # if classifier identifies the sentence to be labled as Not Found it has power to over write the extracter\n    else:\n        final_result2.append(extractions_from_regex[idx])\n###### loading the final output into df ######\nfinal_output1 \u003d pd.DataFrame(data\u003d{\"sent\": df, \"label\": final_result1})\nfinal_output2 \u003d pd.DataFrame(data\u003d{\"sent\": df, \"label\": final_result2})\n###### Final submission ######\nfinal_output1.to_csv((\u0027submission_svm.csv\u0027), index\u003dFalse, quoting\u003d3, escapechar\u003d\u0027\\\\\u0027)\nfinal_output2.to_csv((\u0027submission_mlp.csv\u0027), index\u003dFalse, quoting\u003d3, escapechar\u003d\u0027\\\\\u0027)\nprint(\"Output stored\")\n"
    },
    {
      "cell_type": "code",
      "execution_count": null,
      "metadata": {
        "pycharm": {
          "metadata": false,
          "name": "#%%\n"
        }
      },
      "outputs": [],
      "source": [
        "\n"
      ]
    }
  ],
  "metadata": {
    "kernelspec": {
      "display_name": "PyCharm (ml)",
      "language": "python",
      "name": "pycharm-63a37862"
    },
    "language_info": {
      "codemirror_mode": {
        "name": "ipython",
        "version": 3
      },
      "file_extension": ".py",
      "mimetype": "text/x-python",
      "name": "python",
      "nbconvert_exporter": "python",
      "pygments_lexer": "ipython3",
      "version": "3.6.7"
    }
  },
  "nbformat": 4,
  "nbformat_minor": 1
}